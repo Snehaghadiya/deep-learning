{
 "cells": [
  {
   "cell_type": "code",
   "execution_count": 40,
   "metadata": {},
   "outputs": [
    {
     "name": "stderr",
     "output_type": "stream",
     "text": [
      "/home/sneha/miniconda3/lib/python2.7/site-packages/ipykernel_launcher.py:3: DeprecationWarning: This function is deprecated. Please call randint(-1, 2 + 1) instead\n",
      "  This is separate from the ipykernel package so we can avoid doing imports until\n"
     ]
    }
   ],
   "source": [
    "#Que 7 MLP construction\n",
    "import numpy as np\n",
    "input_vector=np.random.random_integers(-1,2,size=(1,40))\n",
    "num_of_hidden_layer=2\n",
    "bias=20\n",
    "parameter_of_hidden=[]\n",
    "for i in range(num_of_hidden_layer+1):\n",
    "    parameter_of_hidden.append({})\n",
    "    \n",
    "    \n",
    "#fixing the parameters of first hidden layer\n",
    "parameter_of_hidden[0]['num_of_neuron']=30\n",
    "parameter_of_hidden[0]['non_linearity']='relu'\n",
    "\n",
    "#fixing the parameter of second hidden layer\n",
    "parameter_of_hidden[1]['num_of_neuron']=20\n",
    "parameter_of_hidden[1]['non_linearity']='relu'\n",
    "#fixing the parameter of output layer\n",
    "size_of_output_layer=8\n",
    "parameter_of_hidden[2]['num_of_neuron']=size_of_output_layer\n",
    "parameter_of_hidden[2]['non_linearity']='relu'"
   ]
  },
  {
   "cell_type": "code",
   "execution_count": 52,
   "metadata": {},
   "outputs": [],
   "source": [
    "def softmax(x):\n",
    "    \"\"\"Compute softmax values \"\"\"\n",
    "    e_x = np.exp(x - np.max(x))\n",
    "    return e_x / e_x.sum()\n",
    "\n",
    "def relu(feature_map):\n",
    "    #Preparing the output of the ReLU activation function.  \n",
    "    relu_out = np.zeros(feature_map.shape)\n",
    "    for k in range(feature_map.shape[2]):\n",
    "        for r in range(0,feature_map.shape[0]):  \n",
    "            for c in range(0, feature_map.shape[1]):  \n",
    "                relu_out[r][c][k] = max(feature_map[r][c][k], 0)  \n",
    "    return relu_out\n",
    "\n",
    "def MLP(input_vector, num_of_hidden_layer, parameter_of_hidden, size_of_output_layer):\n",
    "    for i in range(num_of_hidden_layer+1):\n",
    "        temp= np.zeros((1,parameter_of_hidden[i]['num_of_neuron']))\n",
    "        weight_vector= np.random.rand(parameter_of_hidden[i]['num_of_neuron'], input_vector.shape[1])\n",
    "        for j in range(parameter_of_hidden[i]['num_of_neuron']):\n",
    "            t=np.multiply(input_vector, weight_vector[j])\n",
    "            t=np.sum(t)\n",
    "            temp[0][j]=t+bias\n",
    "        input_vector=temp\n",
    "    return input_vector\n",
    "\n",
    "        \n",
    "        \n",
    "        \n",
    "    \n",
    "    "
   ]
  },
  {
   "cell_type": "code",
   "execution_count": 53,
   "metadata": {},
   "outputs": [
    {
     "name": "stdout",
     "output_type": "stream",
     "text": [
      "output without softmax\n",
      "[[4121.52196441 4599.28036248 5859.27049048 4177.79187214 4867.87367322\n",
      "  5301.24638145 4810.74191532 4285.09642073]]\n",
      "output after softmax\n",
      "[0.00000000e+000 0.00000000e+000 1.00000000e+000 0.00000000e+000\n",
      " 0.00000000e+000 4.49996027e-243 0.00000000e+000 0.00000000e+000]\n"
     ]
    }
   ],
   "source": [
    "if __name__ == \"__main__\":\n",
    "    g=MLP(input_vector, num_of_hidden_layer, parameter_of_hidden, size_of_output_layer)\n",
    "    print(\"output without softmax\")\n",
    "    print(g)\n",
    "    print(\"output after softmax\")\n",
    "    s=softmax(g[0])\n",
    "    print(s)\n",
    "    "
   ]
  },
  {
   "cell_type": "code",
   "execution_count": null,
   "metadata": {},
   "outputs": [],
   "source": []
  },
  {
   "cell_type": "code",
   "execution_count": null,
   "metadata": {},
   "outputs": [],
   "source": []
  },
  {
   "cell_type": "code",
   "execution_count": null,
   "metadata": {},
   "outputs": [],
   "source": []
  }
 ],
 "metadata": {
  "kernelspec": {
   "display_name": "Python 2",
   "language": "python",
   "name": "python2"
  },
  "language_info": {
   "codemirror_mode": {
    "name": "ipython",
    "version": 2
   },
   "file_extension": ".py",
   "mimetype": "text/x-python",
   "name": "python",
   "nbconvert_exporter": "python",
   "pygments_lexer": "ipython2",
   "version": "2.7.15"
  }
 },
 "nbformat": 4,
 "nbformat_minor": 2
}
