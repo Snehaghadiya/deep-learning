{
 "cells": [
  {
   "cell_type": "code",
   "execution_count": 65,
   "metadata": {},
   "outputs": [],
   "source": [
    "import matplotlib.pyplot\n",
    "import skimage.data\n",
    "import numpy as np\n",
    "import math\n",
    "# Reading the image  \n",
    "img =skimage.io.imread(\"/home/sneha/Downloads/dog.jpg\")\n"
   ]
  },
  {
   "cell_type": "code",
   "execution_count": 66,
   "metadata": {},
   "outputs": [],
   "source": [
    "#padding function\n",
    "def padding(image,size):\n",
    "    for i in range(size):\n",
    "        image=np.insert(image, 0,0,axis=0)\n",
    "        image=np.insert(image,0,image.shape[1],axis=0)\n",
    "        image=np.insert(image, 0,0,axis=1)\n",
    "        image=np.insert(image,0,image.shape[0],axis=1)\n",
    "    return image"
   ]
  },
  {
   "cell_type": "code",
   "execution_count": 67,
   "metadata": {},
   "outputs": [],
   "source": [
    "#function will give you a filter of specified size\n",
    "def filters(num_filter,width,height,depth):\n",
    "    l1_filter = np.random.random_integers(-1,2,size=(num_filter,width,height,depth))\n",
    "    return l1_filter"
   ]
  },
  {
   "cell_type": "code",
   "execution_count": 68,
   "metadata": {},
   "outputs": [],
   "source": [
    "#calculating the dimension of output feature map\n",
    "def out_dimension(image,filters,stride,num_filters):\n",
    "    r=(image.shape[0])-(filters.shape[1])\n",
    "    t=(image.shape[1])-(filters.shape[2])\n",
    "    out_size_x= int(math.floor(r/stride))+1\n",
    "    out_size_y= int(math.floor(t/stride))+1\n",
    "    out=np.zeros((out_size_x,out_size_y,num_fil))\n",
    "    return out"
   ]
  },
  {
   "cell_type": "code",
   "execution_count": 69,
   "metadata": {},
   "outputs": [],
   "source": [
    "def relu(feature_map):\n",
    "    #Preparing the output of the ReLU activation function.  \n",
    "    relu_out = np.zeros(feature_map.shape)\n",
    "    for k in range(feature_map.shape[2]):\n",
    "        for r in range(0,feature_map.shape[0]):  \n",
    "            for c in range(0, feature_map.shape[1]):  \n",
    "                relu_out[r][c][k] = max(feature_map[r][c][k], 0)  \n",
    "    return relu_out"
   ]
  },
  {
   "cell_type": "code",
   "execution_count": 70,
   "metadata": {},
   "outputs": [],
   "source": [
    "#convolving the filter over image and generating the output feature map\n",
    "def convolution(image,filters,stride,pad_size,activation,num_fil):\n",
    "        image= padding(image,pad_size)\n",
    "        out_dim= out_dimension(image,filters,stride,num_fil)\n",
    "        for k in range(num_fil):\n",
    "            count_i=0\n",
    "            for i in range(0,out_dim.shape[0]):\n",
    "                count_j=0\n",
    "                for j in range(0,out_dim.shape[1]):\n",
    "                    temp=image[i+count_i:(i+filters[0].shape[0]+count_i),j+count_j:j+(filters[0].shape[0]+count_j),:]\n",
    "                    temp_1=np.multiply(temp,filters[k])\n",
    "                    temp_1=temp_1.reshape(-1)\n",
    "                    z=np.sum(temp_1)\n",
    "                    out_dim[i][j][k]=z\n",
    "                    count_j=count_j+stride-1\n",
    "                count_i=count_i+stride-1\n",
    "        if(activation=='relu'):\n",
    "            out= relu(out_dim)\n",
    "            return out"
   ]
  },
  {
   "cell_type": "code",
   "execution_count": 71,
   "metadata": {},
   "outputs": [],
   "source": [
    "def pooling( relu_out, stride_size, pool_mat ):\n",
    "    pool= out_dimension(relu_out[:,:,0],pool_mat,stride_size,num_fil)\n",
    "    for k in range(relu_out.shape[2]):\n",
    "        count_i=0\n",
    "        for i in range(0,pool.shape[0]):\n",
    "            count_j=0\n",
    "            for j in range(0,pool.shape[1]):\n",
    "                temp=relu_out[:,:,k][i+count_i:(i+(pool_mat.shape[1])+count_i),j+count_j:(j+(pool_mat.shape[1])+count_j)]\n",
    "                temp_1=np.multiply(temp,pool_mat)\n",
    "                temp_1=temp_1.reshape(-1)\n",
    "                z=np.amax(temp_1)\n",
    "                pool[i][j][k]=z\n",
    "                count_j=count_j+stride_size-1\n",
    "            count_i=count_i+stride_size-1\n",
    "    return pool\n",
    "\n"
   ]
  },
  {
   "cell_type": "code",
   "execution_count": 72,
   "metadata": {},
   "outputs": [
    {
     "name": "stderr",
     "output_type": "stream",
     "text": [
      "/home/sneha/miniconda3/lib/python2.7/site-packages/ipykernel_launcher.py:3: DeprecationWarning: This function is deprecated. Please call randint(-1, 2 + 1) instead\n",
      "  This is separate from the ipykernel package so we can avoid doing imports until\n"
     ]
    }
   ],
   "source": [
    "#Que 7 MLP construction\n",
    "import numpy as np\n",
    "input_vector=np.random.random_integers(-1,2,size=(1,40))\n",
    "num_of_hidden_layer=2\n",
    "bias=-1\n",
    "parameter_of_hidden=[]\n",
    "for i in range(num_of_hidden_layer+1):\n",
    "    parameter_of_hidden.append({})\n",
    "    \n",
    "    \n",
    "#fixing the parameters of first hidden layer\n",
    "parameter_of_hidden[0]['num_of_neuron']=30\n",
    "parameter_of_hidden[0]['non_linearity']='relu'\n",
    "\n",
    "#fixing the parameter of second hidden layer\n",
    "parameter_of_hidden[1]['num_of_neuron']=20\n",
    "parameter_of_hidden[1]['non_linearity']='relu'\n",
    "\n",
    "size_of_output_layer=20\n",
    "parameter_of_hidden[2]['num_of_neuron']=size_of_output_layer\n",
    "parameter_of_hidden[2]['non_linearity']='relu'\n",
    "bias=20"
   ]
  },
  {
   "cell_type": "code",
   "execution_count": 73,
   "metadata": {},
   "outputs": [],
   "source": [
    "def unravelling(pool_output, weight_matrix):\n",
    "    t = np.dot(pool_output, weight_matrix)\n",
    "    return t"
   ]
  },
  {
   "cell_type": "code",
   "execution_count": 76,
   "metadata": {},
   "outputs": [],
   "source": [
    "def softmax(x):\n",
    "    \"\"\"Compute softmax values \"\"\"\n",
    "    e_x = np.exp(x - np.max(x))\n",
    "    return e_x / e_x.sum()\n",
    "\n",
    "def MLP(input_vector, num_of_hidden_layer, parameter_of_hidden, size_of_output_layer):\n",
    "    for i in range(num_of_hidden_layer+1):\n",
    "        temp= np.zeros((1,parameter_of_hidden[i]['num_of_neuron']))\n",
    "        weight_vector= np.random.rand(parameter_of_hidden[i]['num_of_neuron'], input_vector.shape[1])\n",
    "        for j in range(parameter_of_hidden[i]['num_of_neuron']):\n",
    "            t=np.multiply(input_vector, weight_vector[j])\n",
    "            t=np.sum(t)\n",
    "            temp[0][j]=t+bias\n",
    "        input_vector=temp\n",
    "    return input_vector      \n",
    "        \n",
    "        \n",
    "    \n",
    "    "
   ]
  },
  {
   "cell_type": "code",
   "execution_count": 78,
   "metadata": {},
   "outputs": [
    {
     "name": "stderr",
     "output_type": "stream",
     "text": [
      "/home/sneha/miniconda3/lib/python2.7/site-packages/ipykernel_launcher.py:3: DeprecationWarning: This function is deprecated. Please call randint(-1, 2 + 1) instead\n",
      "  This is separate from the ipykernel package so we can avoid doing imports until\n"
     ]
    },
    {
     "name": "stdout",
     "output_type": "stream",
     "text": [
      "1\n",
      "[[1.83308015e+10 1.61219517e+10 1.47062804e+10 1.89455627e+10\n",
      "  1.99446965e+10 1.82273241e+10 1.92691481e+10 2.02329593e+10\n",
      "  1.35115195e+10 1.26129874e+10 1.39140826e+10 1.79622334e+10\n",
      "  1.89192039e+10 1.95830701e+10 1.15440160e+10 1.83555328e+10\n",
      "  1.57240342e+10 1.83288334e+10 1.60456782e+10 2.13785896e+10]]\n",
      "output after softmax\n",
      "[0. 0. 0. 0. 0. 0. 0. 0. 0. 0. 0. 0. 0. 0. 0. 0. 0. 0. 0. 1.]\n"
     ]
    },
    {
     "name": "stderr",
     "output_type": "stream",
     "text": [
      "/home/sneha/miniconda3/lib/python2.7/site-packages/ipykernel_launcher.py:20: DeprecationWarning: This function is deprecated. Please call randint(-1, 2 + 1) instead\n"
     ]
    }
   ],
   "source": [
    "if __name__ == \"__main__\":\n",
    "        image=img\n",
    "        fil=filters(2,2,2,image.shape[2])\n",
    "        stride=2\n",
    "        pad_size=3\n",
    "        activation='relu'\n",
    "        num_fil=2\n",
    "        pool_size=2\n",
    "        pool_stride=2\n",
    "        out_dim= convolution(image,fil,stride,pad_size,activation,num_fil)\n",
    "        pool_mat= np.ones((1,pool_size,pool_size,1))\n",
    "        p= pooling(out_dim,pool_stride,pool_mat)\n",
    "        \n",
    "        #number of neurons in fully connected layer\n",
    "        num_output_neuron=40\n",
    "        pool_output= np.reshape(pool_output, (1,np.product(pool_output.shape)))\n",
    "        print(pool_output.shape[0])\n",
    "        \n",
    "        #Que 6 unravelling\n",
    "        weight_matrix= np.random.random_integers(-1,2,size=(pool_output.shape[1],num_output_neuron))\n",
    "        unrevel_op = unravelling(pool_output, weight_matrix)\n",
    "        \n",
    "        \n",
    "        #Que 7 MLP construction for 2 hidden layer\n",
    "        input_vector=unrevel_op\n",
    "        g=MLP(input_vector, num_of_hidden_layer, parameter_of_hidden, size_of_output_layer)\n",
    "        print(g)\n",
    "        g=softmax(g[0])\n",
    "        print(\"output after softmax\")\n",
    "        print(g)\n",
    "        \n",
    "        \n",
    "        \n",
    "    "
   ]
  },
  {
   "cell_type": "code",
   "execution_count": null,
   "metadata": {},
   "outputs": [],
   "source": []
  },
  {
   "cell_type": "code",
   "execution_count": null,
   "metadata": {},
   "outputs": [],
   "source": [
    "\n",
    "        "
   ]
  },
  {
   "cell_type": "code",
   "execution_count": null,
   "metadata": {},
   "outputs": [],
   "source": []
  },
  {
   "cell_type": "code",
   "execution_count": null,
   "metadata": {},
   "outputs": [],
   "source": []
  }
 ],
 "metadata": {
  "kernelspec": {
   "display_name": "Python 2",
   "language": "python",
   "name": "python2"
  },
  "language_info": {
   "codemirror_mode": {
    "name": "ipython",
    "version": 2
   },
   "file_extension": ".py",
   "mimetype": "text/x-python",
   "name": "python",
   "nbconvert_exporter": "python",
   "pygments_lexer": "ipython2",
   "version": "2.7.15"
  }
 },
 "nbformat": 4,
 "nbformat_minor": 2
}
