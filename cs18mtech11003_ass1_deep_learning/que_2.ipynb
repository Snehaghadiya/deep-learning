{
 "cells": [
  {
   "cell_type": "code",
   "execution_count": 17,
   "metadata": {},
   "outputs": [],
   "source": [
    "import matplotlib.pyplot\n",
    "import skimage.data\n",
    "import numpy as np\n",
    "import math\n",
    "# Reading the image  \n",
    "img =skimage.io.imread(\"/home/sneha/Downloads/dog.jpg\")\n",
    "# matplotlib.pyplot.imshow(img)"
   ]
  },
  {
   "cell_type": "code",
   "execution_count": 18,
   "metadata": {},
   "outputs": [],
   "source": [
    "#padding function\n",
    "def padding(image,size):\n",
    "    for i in range(size):\n",
    "        image=np.insert(image, 0,0,axis=0)\n",
    "        image=np.insert(image,0,image.shape[1],axis=0)\n",
    "        image=np.insert(image, 0,0,axis=1)\n",
    "        image=np.insert(image,0,image.shape[0],axis=1)\n",
    "    return image"
   ]
  },
  {
   "cell_type": "code",
   "execution_count": 19,
   "metadata": {},
   "outputs": [],
   "source": [
    "#function will give you a filter of specified size\n",
    "def filters(num_filter,width,height,depth):\n",
    "    l1_filter = np.random.random_integers(-1,2,size=(num_filter,width,height,depth))\n",
    "    return l1_filter\n",
    "    \n",
    "    "
   ]
  },
  {
   "cell_type": "code",
   "execution_count": 20,
   "metadata": {},
   "outputs": [],
   "source": [
    "#calculating the dimension of output feature map\n",
    "def out_dimension(image,filters,stride):\n",
    "    r=(image.shape[0])-(filters.shape[1])\n",
    "    t=(image.shape[1])-(filters.shape[2])\n",
    "    out_size_x= int(math.floor(r/stride))+1\n",
    "    out_size_y= int(math.floor(t/stride))+1\n",
    "    out=np.zeros((out_size_x,out_size_y))\n",
    "    return out"
   ]
  },
  {
   "cell_type": "code",
   "execution_count": 21,
   "metadata": {},
   "outputs": [],
   "source": [
    "def relu(feature_map):\n",
    "    #Preparing the output of the ReLU activation function.  \n",
    "    relu_out = np.zeros(feature_map.shape)  \n",
    "    for r in range(0,feature_map.shape[0]):  \n",
    "        for c in range(0, feature_map.shape[1]):  \n",
    "            relu_out[r][c] = max(feature_map[r][c], 0)  \n",
    "    return relu_out"
   ]
  },
  {
   "cell_type": "code",
   "execution_count": 22,
   "metadata": {},
   "outputs": [],
   "source": [
    "#convolving the filter over image and generating the output feature map\n",
    "def convolution(image,filters,stride,pad_size,activation):\n",
    "        count_i=0\n",
    "        count_j=0\n",
    "        image= padding(image,pad_size)\n",
    "        matplotlib.pyplot.imshow(image)\n",
    "        out_dim= out_dimension(image,filters,stride)\n",
    "        for i in range(0,out_dim.shape[0]):\n",
    "            count_j=0\n",
    "            for j in range(0,out_dim.shape[1]):\n",
    "                temp=image[i+count_i:(i+(filters.shape[1])+count_i),j+count_j:(j+(filters.shape[2])+count_j),:]\n",
    "                temp_1=np.multiply(temp,filters)\n",
    "                temp_1=temp_1.reshape(-1)\n",
    "                z=np.sum(temp_1)\n",
    "                out_dim[i][j]=z\n",
    "                count_j=count_j+stride-1\n",
    "            count_i=count_i+stride-1\n",
    "        return out_dim\n",
    "        if(activation=='relu'):\n",
    "            out= relu(out_dim)\n",
    "            return out\n"
   ]
  },
  {
   "cell_type": "code",
   "execution_count": 23,
   "metadata": {},
   "outputs": [],
   "source": [
    "def pooling( relu_out, stride_size, pool_mat ):\n",
    "    count_i=0\n",
    "    count_j=0\n",
    "    pool= out_dimension(relu_out,pool_mat,stride_size)\n",
    "    for i in range(0,pool.shape[0]):\n",
    "        count_j=0\n",
    "        for j in range(0,pool.shape[1]):\n",
    "            temp=relu_out[i+count_i:(i+(stride_size)+count_i),j+count_j:(j+(stride_size)+count_j)]\n",
    "            temp_1=np.multiply(temp,pool_mat)\n",
    "            temp_1=temp_1.reshape(-1)\n",
    "            z=np.amax(temp_1)\n",
    "            pool[i][j]=z\n",
    "            count_j=count_j+stride_size-1\n",
    "        count_i=count_i+stride_size-1\n",
    "    return pool\n",
    "\n"
   ]
  },
  {
   "cell_type": "code",
   "execution_count": 25,
   "metadata": {},
   "outputs": [
    {
     "name": "stderr",
     "output_type": "stream",
     "text": [
      "/home/sneha/miniconda3/lib/python2.7/site-packages/ipykernel_launcher.py:3: DeprecationWarning: This function is deprecated. Please call randint(-1, 2 + 1) instead\n",
      "  This is separate from the ipykernel package so we can avoid doing imports until\n",
      "/home/sneha/miniconda3/lib/python2.7/site-packages/ipykernel_launcher.py:8: DeprecationWarning: This function is deprecated. Please call randint(-1, 2 + 1) instead\n",
      "  \n"
     ]
    },
    {
     "data": {
      "image/png": "[encoded data removed]",
      "text/plain": [
       "<Figure size 432x288 with 1 Axes>"
      ]
     },
     "metadata": {
      "needs_background": "light"
     },
     "output_type": "display_data"
    }
   ],
   "source": [
    "if __name__ == \"__main__\":\n",
    "    image=img\n",
    "    fil=filters(2,3,3,3)\n",
    "    stride=3\n",
    "    pad_size=10\n",
    "    activation='relu'\n",
    "    out= convolution(image,fil,stride,pad_size,activation)\n",
    "    pool_mat= np.random.random_integers(-1,2,size=(1,2,2))\n",
    "    p= pooling(out,2,pool_mat)\n",
    "    matplotlib.pyplot.imshow(p)\n",
    "\n",
    "    "
   ]
  },
  {
   "cell_type": "code",
   "execution_count": null,
   "metadata": {},
   "outputs": [],
   "source": []
  }
 ],
 "metadata": {
  "kernelspec": {
   "display_name": "Python 2",
   "language": "python",
   "name": "python2"
  },
  "language_info": {
   "codemirror_mode": {
    "name": "ipython",
    "version": 2
   },
   "file_extension": ".py",
   "mimetype": "text/x-python",
   "name": "python",
   "nbconvert_exporter": "python",
   "pygments_lexer": "ipython2",
   "version": "2.7.15"
  }
 },
 "nbformat": 4,
 "nbformat_minor": 2
}
